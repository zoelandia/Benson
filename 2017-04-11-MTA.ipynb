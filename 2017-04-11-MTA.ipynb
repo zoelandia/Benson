{
 "cells": [
  {
   "cell_type": "markdown",
   "metadata": {},
   "source": [
    "---\n",
    "\n",
    "layout: post\n",
    "title: MTA: Monotonous Tumbling Act\n",
    "\n",
    "---\n"
   ]
  },
  {
   "cell_type": "markdown",
   "metadata": {},
   "source": [
    "For a turnstile, life is just a monotonous tumbling act.\n",
    "\n",
    "How monotonous? About 2,915 tumbles.\n",
    "\n",
    "That is, on an average weekday in March, each turnstile at Grand Central Terminal will spin 2,915 times. Let's take a look at how I got to that number.\n",
    "\n",
    "Using March turnstile data from the MTA for the previous three years, I calculated the average number of entries and exits per weekday for every subway station in the system. Grand Central, unsurprisingly, had an extremely high daily ridership count, second only to Times Square* (also unsurprising).\n",
    "\n",
    "For Grand Central, these average numbers were:  \n",
    "84,006 AM exits  \n",
    "46,641 AM entries  \n",
    "57,343 PM exits  \n",
    "103,523 PM entries\n",
    "\n",
    "That's a total of 291,513 weekday riders. I checked this with the number on the MTA site (same link as above), and it doesn't seem _obviously_ wrong; the MTA lists Grand Central's annual ridership as 46,737,564, which would be 128,048 per day if we average it across the year, ignoring variations due to weekday/weekend/holiday trends.\n",
    "\n",
    "Assuming there are 100 turnstiles at Grand Central, that leaves us with 2,915 riders per turnstile. (I completely made up the 100. I couldn't find any information about how many turnstiles there are at Grand Central. One day I will go count.) If we want to break that down further, it's 121 riders per hour and two per minute. That doesn't sound like a lot. On the other hand, Grand Central's weekday ridership (291,513) is about the entire population of St. Paul, the capital of Minnesota. Imagining that entire city funneling through Grand Central every day makes the number seem a lot bigger. Overall, I don't know how to think about it. I guess my 86,000,000,000 neurons can't handle numbers so small.\n",
    "\n",
    "It's also fun to ignore the actual numbers and just visualize patterns. Below is the plot of entries and exits over the course of a week at Union Square.\n",
    "\n",
    "![One week at Union Square.][figure]\n",
    "[figure]: https://github.com/zoelandia/zoelandia.github.io/images/unionsq.pdf \"One week at Union Square.\"\n",
    "\n",
    "On the x-axis, \"day of the week\" starts at Monday with 0, and \"hour\" refers to the time of the turnstile reading (this only happens every four hours, hence the jerkiness of the plot).\n",
    "\n",
    "The difference between weekday and weekend ridership is apparent, as is the fact that more people commute into Union Square than out.\n",
    "\n",
    "One interesting limitation of the MTA data is that it counts turnstile readings, and people jump turnstiles. Not you, of course, but _other people_ jump turnstiles. I'd guess, however, that turnstile exits are actually more frequently undercounted. For example, the last time I jumped a turnstile was in high school, and then only because I lost the MetroCard my school provided. But last week I exited the subway through the emergency exit door every single morning, because of the flow patterns among morning commuters.\n",
    "\n",
    "---\n",
    "\n",
    "*This is actually according to the [MTA itself](http://web.mta.info/nyct/facts/ffsubway.htm). My data suggest that Herald Square could be busier, but due to complexities in cleaning the data that I'm not yet qualified to address, I will defer to the MTA.\n"
   ]
  },
  {
   "cell_type": "code",
   "execution_count": null,
   "metadata": {
    "collapsed": true
   },
   "outputs": [],
   "source": []
  }
 ],
 "metadata": {
  "kernelspec": {
   "display_name": "Python 3",
   "language": "python",
   "name": "python3"
  },
  "language_info": {
   "codemirror_mode": {
    "name": "ipython",
    "version": 3
   },
   "file_extension": ".py",
   "mimetype": "text/x-python",
   "name": "python",
   "nbconvert_exporter": "python",
   "pygments_lexer": "ipython3",
   "version": "3.6.0"
  }
 },
 "nbformat": 4,
 "nbformat_minor": 2
}
